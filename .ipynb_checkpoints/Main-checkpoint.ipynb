{
 "cells": [
  {
   "cell_type": "code",
   "execution_count": 1,
   "id": "ccbb593e",
   "metadata": {},
   "outputs": [],
   "source": [
    "#required Libraries\n",
    "import os\n",
    "import h5py\n",
    "import numpy as np\n",
    "from keras.preprocessing.image import ImageDataGenerator\n",
    "from keras import optimizers\n",
    "from tensorflow.keras.models import Sequential\n",
    "from tensorflow.keras.layers import Convolution2D,MaxPooling2D,Activation, Dropout, Flatten, Dense, BatchNormalization"
   ]
  },
  {
   "cell_type": "code",
   "execution_count": 2,
   "id": "e63df702",
   "metadata": {},
   "outputs": [
    {
     "name": "stdout",
     "output_type": "stream",
     "text": [
      "Found 78200 images belonging to 46 classes.\n",
      "Found 13800 images belonging to 46 classes.\n"
     ]
    }
   ],
   "source": [
    "#Data Preprocessing\n",
    "trainDataGen = ImageDataGenerator(\n",
    "\t\trotation_range = 5,\n",
    "\t\twidth_shift_range = 0.1,\n",
    "\t\theight_shift_range = 0.1,\n",
    "\t\trescale = 1.0/255,\n",
    "\t\tshear_range = 0.2,\n",
    "\t\tzoom_range = 0.2,\t\t\n",
    "\t\thorizontal_flip = False,\n",
    "\t\tfill_mode = 'nearest')\n",
    "\n",
    "test_datagen = ImageDataGenerator(rescale=1./255)\n",
    "trainGenerator = trainDataGen.flow_from_directory(\n",
    "\t\t\t\"DevanagariHandwrittenCharacterDataset/Train\",\n",
    "\t\t\ttarget_size = (32,32),\n",
    "\t\t\tbatch_size = 32,\n",
    "\t\t\tcolor_mode = \"grayscale\",\n",
    "\t\t\tclass_mode = \"categorical\")\n",
    "validation_generator = test_datagen.flow_from_directory(\n",
    "\t\t\t\"DevanagariHandwrittenCharacterDataset/Test\",\n",
    "\t\t\ttarget_size=(32,32),\n",
    "\t\t\tbatch_size=32,\n",
    "\t\t\tcolor_mode = \"grayscale\",\n",
    "\t\t\tclass_mode= 'categorical')\n"
   ]
  },
  {
   "cell_type": "markdown",
   "id": "64375fa1",
   "metadata": {},
   "source": [
    "#### Using CNN"
   ]
  },
  {
   "cell_type": "code",
   "execution_count": 3,
   "id": "c52c98bc",
   "metadata": {},
   "outputs": [],
   "source": [
    "model = Sequential()\n",
    "\n",
    "#Layer1----------------------------------------------------------\n",
    "model.add(Convolution2D(filters = 32,\n",
    "\t\t\tkernel_size = (3,3),\n",
    "\t\t\tstrides = 1,\n",
    "\t\t\tactivation = \"relu\",\n",
    "\t\t\tinput_shape = (32,32,1)))\n",
    "\n",
    "model.add(BatchNormalization())\n",
    "model.add(MaxPooling2D(pool_size=(2, 2),\n",
    "\t\t\tstrides=(2, 2),\n",
    "\t\t\tpadding=\"same\"))\n",
    "\n",
    "#Layer2-------------------------------------------------------------\n",
    "model.add(Convolution2D(filters = 32,\n",
    "\t\t\tkernel_size = (3,3),\n",
    "\t\t\tstrides = 1,\n",
    "\t\t\tactivation = \"relu\",\n",
    "\t\t\tinput_shape = (32,32,1)))\n",
    "model.add(BatchNormalization())\n",
    "model.add(MaxPooling2D(pool_size=(2, 2),\n",
    "\t\t\tstrides=(2, 2),\n",
    "\t\t\tpadding=\"same\"))\n",
    "\n",
    "\n",
    "#Layer 3-----------------------------------------------------------\t\n",
    "model.add(Convolution2D(filters = 64,\n",
    "\t\t\tkernel_size = (3,3),\n",
    "\t\t\tstrides = 1,\n",
    "\t\t\tactivation = \"relu\"))\n",
    "model.add(BatchNormalization())\n",
    "model.add(MaxPooling2D(pool_size=(2, 2),\n",
    "\t\t\tstrides=(2, 2),\n",
    "\t\t\tpadding=\"same\"))\n",
    "\n",
    "\n",
    "#Layer 4--------------------------------------------------\n",
    "model.add(Convolution2D(filters = 64,\n",
    "\t\t\tkernel_size = (3,3),\n",
    "\t\t\tstrides= 1,\n",
    "\t\t\tactivation = \"relu\"))\n",
    "model.add(BatchNormalization())\n",
    "model.add(MaxPooling2D(pool_size=(2, 2),\n",
    "\t\t\tstrides=(2, 2),\n",
    "            padding=\"same\"))\n",
    "model.add(Flatten())\n"
   ]
  },
  {
   "cell_type": "markdown",
   "id": "6ebcf275",
   "metadata": {},
   "source": [
    "#### Giving Flattened output to fully connected layers"
   ]
  },
  {
   "cell_type": "code",
   "execution_count": 5,
   "id": "dbb73221",
   "metadata": {},
   "outputs": [
    {
     "name": "stderr",
     "output_type": "stream",
     "text": [
      "<ipython-input-5-551f349823c7>:24: UserWarning: `Model.fit_generator` is deprecated and will be removed in a future version. Please use `Model.fit`, which supports generators.\n",
      "  res=model.fit_generator(\n"
     ]
    },
    {
     "name": "stdout",
     "output_type": "stream",
     "text": [
      "Epoch 1/10\n",
      "100/100 [==============================] - 46s 425ms/step - loss: 1.7270 - accuracy: 0.9197 - val_loss: 3.7009 - val_accuracy: 0.9612\n",
      "Epoch 2/10\n",
      "100/100 [==============================] - 27s 273ms/step - loss: 0.4277 - accuracy: 0.9575 - val_loss: 3.3032 - val_accuracy: 0.9770\n",
      "Epoch 3/10\n",
      "100/100 [==============================] - 30s 301ms/step - loss: 0.2643 - accuracy: 0.9644 - val_loss: 2.5032 - val_accuracy: 0.9770\n",
      "Epoch 4/10\n",
      "100/100 [==============================] - 26s 260ms/step - loss: 0.2350 - accuracy: 0.9616 - val_loss: 1.4190 - val_accuracy: 0.9757\n",
      "Epoch 5/10\n",
      "100/100 [==============================] - 25s 251ms/step - loss: 0.2671 - accuracy: 0.9522 - val_loss: 0.5966 - val_accuracy: 0.9773\n",
      "Epoch 6/10\n",
      "100/100 [==============================] - 27s 273ms/step - loss: 0.2491 - accuracy: 0.9547 - val_loss: 0.3550 - val_accuracy: 0.9469\n",
      "Epoch 7/10\n",
      "100/100 [==============================] - 28s 281ms/step - loss: 0.2843 - accuracy: 0.9475 - val_loss: 0.1738 - val_accuracy: 0.9716\n",
      "Epoch 8/10\n",
      "100/100 [==============================] - 28s 279ms/step - loss: 0.2567 - accuracy: 0.9519 - val_loss: 0.1288 - val_accuracy: 0.9787\n",
      "Epoch 9/10\n",
      "100/100 [==============================] - 31s 311ms/step - loss: 0.2264 - accuracy: 0.9578 - val_loss: 0.1390 - val_accuracy: 0.9756\n",
      "Epoch 10/10\n",
      "100/100 [==============================] - 26s 262ms/step - loss: 0.2033 - accuracy: 0.9603 - val_loss: 0.1295 - val_accuracy: 0.9769\n"
     ]
    }
   ],
   "source": [
    "#Fully Connected Layer 1----------------\n",
    "model.add(Dense(128,\n",
    "\t\tactivation = \"relu\",\n",
    "\t\tkernel_initializer = \"uniform\"))\n",
    "model.add(BatchNormalization())\t\t\t\n",
    "\n",
    "#Fully Connected Layer 2----------------\n",
    "model.add(Dense(64,\n",
    "\t\tactivation = \"relu\",\n",
    "\t\tkernel_initializer = \"uniform\"))\n",
    "model.add(BatchNormalization())\t\t\t\n",
    "\n",
    "#Fully Connected Layer 3----------------\n",
    "model.add(Dense(46,\n",
    "\t\tactivation = \"softmax\",\n",
    "\t\tkernel_initializer = \"uniform\"))\t\t\t\n",
    "\n",
    "#Compile Model---------------------------\n",
    "model.compile(optimizer = \"adam\",\n",
    "\t\tloss = \"categorical_crossentropy\",\n",
    "\t\tmetrics = [\"accuracy\"])\n",
    "\n",
    "#Fit model on the loaded dataset---------\n",
    "res=model.fit_generator(\n",
    "\t\ttrainGenerator,\n",
    "\t\tepochs = 10,\n",
    "\t\tsteps_per_epoch = 100,\n",
    "\t\tvalidation_data = validation_generator,\n",
    "\t\tvalidation_steps = 432\n",
    "\t\t)\n"
   ]
  },
  {
   "cell_type": "code",
   "execution_count": null,
   "id": "18ac2f38",
   "metadata": {},
   "outputs": [],
   "source": []
  }
 ],
 "metadata": {
  "kernelspec": {
   "display_name": "Python 3",
   "language": "python",
   "name": "python3"
  },
  "language_info": {
   "codemirror_mode": {
    "name": "ipython",
    "version": 3
   },
   "file_extension": ".py",
   "mimetype": "text/x-python",
   "name": "python",
   "nbconvert_exporter": "python",
   "pygments_lexer": "ipython3",
   "version": "3.8.8"
  }
 },
 "nbformat": 4,
 "nbformat_minor": 5
}
